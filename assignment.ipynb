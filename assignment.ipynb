{
  "nbformat": 4,
  "nbformat_minor": 0,
  "metadata": {
    "colab": {
      "provenance": [],
      "authorship_tag": "ABX9TyMjrMnMhteB7iEas+yCKRXP",
      "include_colab_link": true
    },
    "kernelspec": {
      "name": "python3",
      "display_name": "Python 3"
    },
    "language_info": {
      "name": "python"
    }
  },
  "cells": [
    {
      "cell_type": "markdown",
      "metadata": {
        "id": "view-in-github",
        "colab_type": "text"
      },
      "source": [
        "<a href=\"https://colab.research.google.com/gist/essam77ra/78529ac2843672f08c38ef51d424c58f/assignment.ipynb\" target=\"_parent\"><img src=\"https://colab.research.google.com/assets/colab-badge.svg\" alt=\"Open In Colab\"/></a>"
      ]
    },
    {
      "cell_type": "markdown",
      "source": [
        "**Task 1**"
      ],
      "metadata": {
        "id": "Ck674j00c9mA"
      }
    },
    {
      "cell_type": "code",
      "execution_count": 2,
      "metadata": {
        "colab": {
          "base_uri": "https://localhost:8080/",
          "height": 486
        },
        "id": "YeoZ70JbZ0uB",
        "outputId": "c8426467-1b81-40fe-a10e-9284423eb7fc"
      },
      "outputs": [
        {
          "output_type": "execute_result",
          "data": {
            "text/plain": [
              "   Id       EmployeeName                                        JobTitle  \\\n",
              "0   1     NATHANIEL FORD  GENERAL MANAGER-METROPOLITAN TRANSIT AUTHORITY   \n",
              "1   2       GARY JIMENEZ                 CAPTAIN III (POLICE DEPARTMENT)   \n",
              "2   3     ALBERT PARDINI                 CAPTAIN III (POLICE DEPARTMENT)   \n",
              "3   4  CHRISTOPHER CHONG            WIRE ROPE CABLE MAINTENANCE MECHANIC   \n",
              "4   5    PATRICK GARDNER    DEPUTY CHIEF OF DEPARTMENT,(FIRE DEPARTMENT)   \n",
              "\n",
              "     BasePay  OvertimePay   OtherPay  Benefits   TotalPay  TotalPayBenefits  \\\n",
              "0  167411.18         0.00  400184.25       NaN  567595.43         567595.43   \n",
              "1  155966.02    245131.88  137811.38       NaN  538909.28         538909.28   \n",
              "2  212739.13    106088.18   16452.60       NaN  335279.91         335279.91   \n",
              "3   77916.00     56120.71  198306.90       NaN  332343.61         332343.61   \n",
              "4  134401.60      9737.00  182234.59       NaN  326373.19         326373.19   \n",
              "\n",
              "   Year  Notes         Agency  Status  \n",
              "0  2011    NaN  San Francisco     NaN  \n",
              "1  2011    NaN  San Francisco     NaN  \n",
              "2  2011    NaN  San Francisco     NaN  \n",
              "3  2011    NaN  San Francisco     NaN  \n",
              "4  2011    NaN  San Francisco     NaN  "
            ],
            "text/html": [
              "\n",
              "  <div id=\"df-9d4e9622-95a0-4fcc-8c5a-ee44bcb0010f\" class=\"colab-df-container\">\n",
              "    <div>\n",
              "<style scoped>\n",
              "    .dataframe tbody tr th:only-of-type {\n",
              "        vertical-align: middle;\n",
              "    }\n",
              "\n",
              "    .dataframe tbody tr th {\n",
              "        vertical-align: top;\n",
              "    }\n",
              "\n",
              "    .dataframe thead th {\n",
              "        text-align: right;\n",
              "    }\n",
              "</style>\n",
              "<table border=\"1\" class=\"dataframe\">\n",
              "  <thead>\n",
              "    <tr style=\"text-align: right;\">\n",
              "      <th></th>\n",
              "      <th>Id</th>\n",
              "      <th>EmployeeName</th>\n",
              "      <th>JobTitle</th>\n",
              "      <th>BasePay</th>\n",
              "      <th>OvertimePay</th>\n",
              "      <th>OtherPay</th>\n",
              "      <th>Benefits</th>\n",
              "      <th>TotalPay</th>\n",
              "      <th>TotalPayBenefits</th>\n",
              "      <th>Year</th>\n",
              "      <th>Notes</th>\n",
              "      <th>Agency</th>\n",
              "      <th>Status</th>\n",
              "    </tr>\n",
              "  </thead>\n",
              "  <tbody>\n",
              "    <tr>\n",
              "      <th>0</th>\n",
              "      <td>1</td>\n",
              "      <td>NATHANIEL FORD</td>\n",
              "      <td>GENERAL MANAGER-METROPOLITAN TRANSIT AUTHORITY</td>\n",
              "      <td>167411.18</td>\n",
              "      <td>0.00</td>\n",
              "      <td>400184.25</td>\n",
              "      <td>NaN</td>\n",
              "      <td>567595.43</td>\n",
              "      <td>567595.43</td>\n",
              "      <td>2011</td>\n",
              "      <td>NaN</td>\n",
              "      <td>San Francisco</td>\n",
              "      <td>NaN</td>\n",
              "    </tr>\n",
              "    <tr>\n",
              "      <th>1</th>\n",
              "      <td>2</td>\n",
              "      <td>GARY JIMENEZ</td>\n",
              "      <td>CAPTAIN III (POLICE DEPARTMENT)</td>\n",
              "      <td>155966.02</td>\n",
              "      <td>245131.88</td>\n",
              "      <td>137811.38</td>\n",
              "      <td>NaN</td>\n",
              "      <td>538909.28</td>\n",
              "      <td>538909.28</td>\n",
              "      <td>2011</td>\n",
              "      <td>NaN</td>\n",
              "      <td>San Francisco</td>\n",
              "      <td>NaN</td>\n",
              "    </tr>\n",
              "    <tr>\n",
              "      <th>2</th>\n",
              "      <td>3</td>\n",
              "      <td>ALBERT PARDINI</td>\n",
              "      <td>CAPTAIN III (POLICE DEPARTMENT)</td>\n",
              "      <td>212739.13</td>\n",
              "      <td>106088.18</td>\n",
              "      <td>16452.60</td>\n",
              "      <td>NaN</td>\n",
              "      <td>335279.91</td>\n",
              "      <td>335279.91</td>\n",
              "      <td>2011</td>\n",
              "      <td>NaN</td>\n",
              "      <td>San Francisco</td>\n",
              "      <td>NaN</td>\n",
              "    </tr>\n",
              "    <tr>\n",
              "      <th>3</th>\n",
              "      <td>4</td>\n",
              "      <td>CHRISTOPHER CHONG</td>\n",
              "      <td>WIRE ROPE CABLE MAINTENANCE MECHANIC</td>\n",
              "      <td>77916.00</td>\n",
              "      <td>56120.71</td>\n",
              "      <td>198306.90</td>\n",
              "      <td>NaN</td>\n",
              "      <td>332343.61</td>\n",
              "      <td>332343.61</td>\n",
              "      <td>2011</td>\n",
              "      <td>NaN</td>\n",
              "      <td>San Francisco</td>\n",
              "      <td>NaN</td>\n",
              "    </tr>\n",
              "    <tr>\n",
              "      <th>4</th>\n",
              "      <td>5</td>\n",
              "      <td>PATRICK GARDNER</td>\n",
              "      <td>DEPUTY CHIEF OF DEPARTMENT,(FIRE DEPARTMENT)</td>\n",
              "      <td>134401.60</td>\n",
              "      <td>9737.00</td>\n",
              "      <td>182234.59</td>\n",
              "      <td>NaN</td>\n",
              "      <td>326373.19</td>\n",
              "      <td>326373.19</td>\n",
              "      <td>2011</td>\n",
              "      <td>NaN</td>\n",
              "      <td>San Francisco</td>\n",
              "      <td>NaN</td>\n",
              "    </tr>\n",
              "  </tbody>\n",
              "</table>\n",
              "</div>\n",
              "    <div class=\"colab-df-buttons\">\n",
              "\n",
              "  <div class=\"colab-df-container\">\n",
              "    <button class=\"colab-df-convert\" onclick=\"convertToInteractive('df-9d4e9622-95a0-4fcc-8c5a-ee44bcb0010f')\"\n",
              "            title=\"Convert this dataframe to an interactive table.\"\n",
              "            style=\"display:none;\">\n",
              "\n",
              "  <svg xmlns=\"http://www.w3.org/2000/svg\" height=\"24px\" viewBox=\"0 -960 960 960\">\n",
              "    <path d=\"M120-120v-720h720v720H120Zm60-500h600v-160H180v160Zm220 220h160v-160H400v160Zm0 220h160v-160H400v160ZM180-400h160v-160H180v160Zm440 0h160v-160H620v160ZM180-180h160v-160H180v160Zm440 0h160v-160H620v160Z\"/>\n",
              "  </svg>\n",
              "    </button>\n",
              "\n",
              "  <style>\n",
              "    .colab-df-container {\n",
              "      display:flex;\n",
              "      gap: 12px;\n",
              "    }\n",
              "\n",
              "    .colab-df-convert {\n",
              "      background-color: #E8F0FE;\n",
              "      border: none;\n",
              "      border-radius: 50%;\n",
              "      cursor: pointer;\n",
              "      display: none;\n",
              "      fill: #1967D2;\n",
              "      height: 32px;\n",
              "      padding: 0 0 0 0;\n",
              "      width: 32px;\n",
              "    }\n",
              "\n",
              "    .colab-df-convert:hover {\n",
              "      background-color: #E2EBFA;\n",
              "      box-shadow: 0px 1px 2px rgba(60, 64, 67, 0.3), 0px 1px 3px 1px rgba(60, 64, 67, 0.15);\n",
              "      fill: #174EA6;\n",
              "    }\n",
              "\n",
              "    .colab-df-buttons div {\n",
              "      margin-bottom: 4px;\n",
              "    }\n",
              "\n",
              "    [theme=dark] .colab-df-convert {\n",
              "      background-color: #3B4455;\n",
              "      fill: #D2E3FC;\n",
              "    }\n",
              "\n",
              "    [theme=dark] .colab-df-convert:hover {\n",
              "      background-color: #434B5C;\n",
              "      box-shadow: 0px 1px 3px 1px rgba(0, 0, 0, 0.15);\n",
              "      filter: drop-shadow(0px 1px 2px rgba(0, 0, 0, 0.3));\n",
              "      fill: #FFFFFF;\n",
              "    }\n",
              "  </style>\n",
              "\n",
              "    <script>\n",
              "      const buttonEl =\n",
              "        document.querySelector('#df-9d4e9622-95a0-4fcc-8c5a-ee44bcb0010f button.colab-df-convert');\n",
              "      buttonEl.style.display =\n",
              "        google.colab.kernel.accessAllowed ? 'block' : 'none';\n",
              "\n",
              "      async function convertToInteractive(key) {\n",
              "        const element = document.querySelector('#df-9d4e9622-95a0-4fcc-8c5a-ee44bcb0010f');\n",
              "        const dataTable =\n",
              "          await google.colab.kernel.invokeFunction('convertToInteractive',\n",
              "                                                    [key], {});\n",
              "        if (!dataTable) return;\n",
              "\n",
              "        const docLinkHtml = 'Like what you see? Visit the ' +\n",
              "          '<a target=\"_blank\" href=https://colab.research.google.com/notebooks/data_table.ipynb>data table notebook</a>'\n",
              "          + ' to learn more about interactive tables.';\n",
              "        element.innerHTML = '';\n",
              "        dataTable['output_type'] = 'display_data';\n",
              "        await google.colab.output.renderOutput(dataTable, element);\n",
              "        const docLink = document.createElement('div');\n",
              "        docLink.innerHTML = docLinkHtml;\n",
              "        element.appendChild(docLink);\n",
              "      }\n",
              "    </script>\n",
              "  </div>\n",
              "\n",
              "\n",
              "<div id=\"df-a23c9df0-6516-4a00-90e2-83760c85ba01\">\n",
              "  <button class=\"colab-df-quickchart\" onclick=\"quickchart('df-a23c9df0-6516-4a00-90e2-83760c85ba01')\"\n",
              "            title=\"Suggest charts\"\n",
              "            style=\"display:none;\">\n",
              "\n",
              "<svg xmlns=\"http://www.w3.org/2000/svg\" height=\"24px\"viewBox=\"0 0 24 24\"\n",
              "     width=\"24px\">\n",
              "    <g>\n",
              "        <path d=\"M19 3H5c-1.1 0-2 .9-2 2v14c0 1.1.9 2 2 2h14c1.1 0 2-.9 2-2V5c0-1.1-.9-2-2-2zM9 17H7v-7h2v7zm4 0h-2V7h2v10zm4 0h-2v-4h2v4z\"/>\n",
              "    </g>\n",
              "</svg>\n",
              "  </button>\n",
              "\n",
              "<style>\n",
              "  .colab-df-quickchart {\n",
              "      --bg-color: #E8F0FE;\n",
              "      --fill-color: #1967D2;\n",
              "      --hover-bg-color: #E2EBFA;\n",
              "      --hover-fill-color: #174EA6;\n",
              "      --disabled-fill-color: #AAA;\n",
              "      --disabled-bg-color: #DDD;\n",
              "  }\n",
              "\n",
              "  [theme=dark] .colab-df-quickchart {\n",
              "      --bg-color: #3B4455;\n",
              "      --fill-color: #D2E3FC;\n",
              "      --hover-bg-color: #434B5C;\n",
              "      --hover-fill-color: #FFFFFF;\n",
              "      --disabled-bg-color: #3B4455;\n",
              "      --disabled-fill-color: #666;\n",
              "  }\n",
              "\n",
              "  .colab-df-quickchart {\n",
              "    background-color: var(--bg-color);\n",
              "    border: none;\n",
              "    border-radius: 50%;\n",
              "    cursor: pointer;\n",
              "    display: none;\n",
              "    fill: var(--fill-color);\n",
              "    height: 32px;\n",
              "    padding: 0;\n",
              "    width: 32px;\n",
              "  }\n",
              "\n",
              "  .colab-df-quickchart:hover {\n",
              "    background-color: var(--hover-bg-color);\n",
              "    box-shadow: 0 1px 2px rgba(60, 64, 67, 0.3), 0 1px 3px 1px rgba(60, 64, 67, 0.15);\n",
              "    fill: var(--button-hover-fill-color);\n",
              "  }\n",
              "\n",
              "  .colab-df-quickchart-complete:disabled,\n",
              "  .colab-df-quickchart-complete:disabled:hover {\n",
              "    background-color: var(--disabled-bg-color);\n",
              "    fill: var(--disabled-fill-color);\n",
              "    box-shadow: none;\n",
              "  }\n",
              "\n",
              "  .colab-df-spinner {\n",
              "    border: 2px solid var(--fill-color);\n",
              "    border-color: transparent;\n",
              "    border-bottom-color: var(--fill-color);\n",
              "    animation:\n",
              "      spin 1s steps(1) infinite;\n",
              "  }\n",
              "\n",
              "  @keyframes spin {\n",
              "    0% {\n",
              "      border-color: transparent;\n",
              "      border-bottom-color: var(--fill-color);\n",
              "      border-left-color: var(--fill-color);\n",
              "    }\n",
              "    20% {\n",
              "      border-color: transparent;\n",
              "      border-left-color: var(--fill-color);\n",
              "      border-top-color: var(--fill-color);\n",
              "    }\n",
              "    30% {\n",
              "      border-color: transparent;\n",
              "      border-left-color: var(--fill-color);\n",
              "      border-top-color: var(--fill-color);\n",
              "      border-right-color: var(--fill-color);\n",
              "    }\n",
              "    40% {\n",
              "      border-color: transparent;\n",
              "      border-right-color: var(--fill-color);\n",
              "      border-top-color: var(--fill-color);\n",
              "    }\n",
              "    60% {\n",
              "      border-color: transparent;\n",
              "      border-right-color: var(--fill-color);\n",
              "    }\n",
              "    80% {\n",
              "      border-color: transparent;\n",
              "      border-right-color: var(--fill-color);\n",
              "      border-bottom-color: var(--fill-color);\n",
              "    }\n",
              "    90% {\n",
              "      border-color: transparent;\n",
              "      border-bottom-color: var(--fill-color);\n",
              "    }\n",
              "  }\n",
              "</style>\n",
              "\n",
              "  <script>\n",
              "    async function quickchart(key) {\n",
              "      const quickchartButtonEl =\n",
              "        document.querySelector('#' + key + ' button');\n",
              "      quickchartButtonEl.disabled = true;  // To prevent multiple clicks.\n",
              "      quickchartButtonEl.classList.add('colab-df-spinner');\n",
              "      try {\n",
              "        const charts = await google.colab.kernel.invokeFunction(\n",
              "            'suggestCharts', [key], {});\n",
              "      } catch (error) {\n",
              "        console.error('Error during call to suggestCharts:', error);\n",
              "      }\n",
              "      quickchartButtonEl.classList.remove('colab-df-spinner');\n",
              "      quickchartButtonEl.classList.add('colab-df-quickchart-complete');\n",
              "    }\n",
              "    (() => {\n",
              "      let quickchartButtonEl =\n",
              "        document.querySelector('#df-a23c9df0-6516-4a00-90e2-83760c85ba01 button');\n",
              "      quickchartButtonEl.style.display =\n",
              "        google.colab.kernel.accessAllowed ? 'block' : 'none';\n",
              "    })();\n",
              "  </script>\n",
              "</div>\n",
              "\n",
              "    </div>\n",
              "  </div>\n"
            ]
          },
          "metadata": {},
          "execution_count": 2
        }
      ],
      "source": [
        "import pandas as pd\n",
        "import numpy as np\n",
        "import matplotlib.pyplot as plt\n",
        "import seaborn as sns\n",
        "\n",
        "\n",
        "# Load your dataset\n",
        "df = pd.read_csv('/content/Salaries.csv')\n",
        "df.head()\n"
      ]
    },
    {
      "cell_type": "code",
      "source": [
        "rows = df.shape[0]\n",
        "cols = df.shape[1]\n",
        "\n",
        "print(\"No. of rows: \", rows)\n",
        "print(\"No. of columns: \", cols)"
      ],
      "metadata": {
        "colab": {
          "base_uri": "https://localhost:8080/"
        },
        "id": "1TDxK18eayuD",
        "outputId": "feff3fe7-bcae-4093-aaae-141bcee77508"
      },
      "execution_count": 3,
      "outputs": [
        {
          "output_type": "stream",
          "name": "stdout",
          "text": [
            "No. of rows:  148654\n",
            "No. of columns:  13\n"
          ]
        }
      ]
    },
    {
      "cell_type": "code",
      "source": [
        "df.dtypes"
      ],
      "metadata": {
        "colab": {
          "base_uri": "https://localhost:8080/"
        },
        "id": "5fZGXWqiccfz",
        "outputId": "3aba3d52-612f-4d48-9114-08e98f6f6bad"
      },
      "execution_count": 4,
      "outputs": [
        {
          "output_type": "execute_result",
          "data": {
            "text/plain": [
              "Id                    int64\n",
              "EmployeeName         object\n",
              "JobTitle             object\n",
              "BasePay             float64\n",
              "OvertimePay         float64\n",
              "OtherPay            float64\n",
              "Benefits            float64\n",
              "TotalPay            float64\n",
              "TotalPayBenefits    float64\n",
              "Year                  int64\n",
              "Notes               float64\n",
              "Agency               object\n",
              "Status              float64\n",
              "dtype: object"
            ]
          },
          "metadata": {},
          "execution_count": 4
        }
      ]
    },
    {
      "cell_type": "code",
      "source": [
        "print(df.isnull())"
      ],
      "metadata": {
        "colab": {
          "base_uri": "https://localhost:8080/"
        },
        "id": "bePnoS_IcvF3",
        "outputId": "3caaebb3-67f7-4c51-ba9e-2f8b532eb41b"
      },
      "execution_count": 5,
      "outputs": [
        {
          "output_type": "stream",
          "name": "stdout",
          "text": [
            "           Id  EmployeeName  JobTitle  BasePay  OvertimePay  OtherPay  \\\n",
            "0       False         False     False    False        False     False   \n",
            "1       False         False     False    False        False     False   \n",
            "2       False         False     False    False        False     False   \n",
            "3       False         False     False    False        False     False   \n",
            "4       False         False     False    False        False     False   \n",
            "...       ...           ...       ...      ...          ...       ...   \n",
            "148649  False         False     False    False        False     False   \n",
            "148650  False         False     False     True         True      True   \n",
            "148651  False         False     False     True         True      True   \n",
            "148652  False         False     False     True         True      True   \n",
            "148653  False         False     False    False        False     False   \n",
            "\n",
            "        Benefits  TotalPay  TotalPayBenefits   Year  Notes  Agency  Status  \n",
            "0           True     False             False  False   True   False    True  \n",
            "1           True     False             False  False   True   False    True  \n",
            "2           True     False             False  False   True   False    True  \n",
            "3           True     False             False  False   True   False    True  \n",
            "4           True     False             False  False   True   False    True  \n",
            "...          ...       ...               ...    ...    ...     ...     ...  \n",
            "148649     False     False             False  False   True   False    True  \n",
            "148650      True     False             False  False   True   False    True  \n",
            "148651      True     False             False  False   True   False    True  \n",
            "148652      True     False             False  False   True   False    True  \n",
            "148653     False     False             False  False   True   False    True  \n",
            "\n",
            "[148654 rows x 13 columns]\n"
          ]
        }
      ]
    },
    {
      "cell_type": "code",
      "source": [
        "df.isnull().sum()"
      ],
      "metadata": {
        "colab": {
          "base_uri": "https://localhost:8080/"
        },
        "id": "wGY3aM_xn3I7",
        "outputId": "80615b85-5e60-4722-a47a-afb2ab4f8c57"
      },
      "execution_count": 6,
      "outputs": [
        {
          "output_type": "execute_result",
          "data": {
            "text/plain": [
              "Id                       0\n",
              "EmployeeName             0\n",
              "JobTitle                 0\n",
              "BasePay                609\n",
              "OvertimePay              4\n",
              "OtherPay                 4\n",
              "Benefits             36163\n",
              "TotalPay                 0\n",
              "TotalPayBenefits         0\n",
              "Year                     0\n",
              "Notes               148654\n",
              "Agency                   0\n",
              "Status              148654\n",
              "dtype: int64"
            ]
          },
          "metadata": {},
          "execution_count": 6
        }
      ]
    },
    {
      "cell_type": "markdown",
      "source": [
        "**Task 2**"
      ],
      "metadata": {
        "id": "4Kah9ArbdE1a"
      }
    },
    {
      "cell_type": "code",
      "source": [
        "df[\"TotalPayBenefits\"].mean()"
      ],
      "metadata": {
        "colab": {
          "base_uri": "https://localhost:8080/"
        },
        "id": "mVPcI-g5dG4N",
        "outputId": "54dd98d9-001e-4ce8-c99f-0feed1179f99"
      },
      "execution_count": 7,
      "outputs": [
        {
          "output_type": "execute_result",
          "data": {
            "text/plain": [
              "93692.55481056681"
            ]
          },
          "metadata": {},
          "execution_count": 7
        }
      ]
    },
    {
      "cell_type": "code",
      "source": [
        "df[\"TotalPayBenefits\"].median()"
      ],
      "metadata": {
        "colab": {
          "base_uri": "https://localhost:8080/"
        },
        "id": "HShVlny3lcYT",
        "outputId": "7f8197b1-36f7-41df-e18b-f2593da9f2f5"
      },
      "execution_count": 8,
      "outputs": [
        {
          "output_type": "execute_result",
          "data": {
            "text/plain": [
              "92404.09"
            ]
          },
          "metadata": {},
          "execution_count": 8
        }
      ]
    },
    {
      "cell_type": "code",
      "source": [
        "df[\"TotalPayBenefits\"].mode()"
      ],
      "metadata": {
        "colab": {
          "base_uri": "https://localhost:8080/"
        },
        "id": "dZNhPkmJluDn",
        "outputId": "2343ed52-17c8-4297-d681-d963d9fd4668"
      },
      "execution_count": 9,
      "outputs": [
        {
          "output_type": "execute_result",
          "data": {
            "text/plain": [
              "0    7959.18\n",
              "Name: TotalPayBenefits, dtype: float64"
            ]
          },
          "metadata": {},
          "execution_count": 9
        }
      ]
    },
    {
      "cell_type": "code",
      "source": [
        "df[\"TotalPayBenefits\"].min()"
      ],
      "metadata": {
        "colab": {
          "base_uri": "https://localhost:8080/"
        },
        "id": "sAaJJj1tlxCP",
        "outputId": "2f784e0f-aa6b-40d5-f87b-fb915190ddb4"
      },
      "execution_count": 10,
      "outputs": [
        {
          "output_type": "execute_result",
          "data": {
            "text/plain": [
              "-618.13"
            ]
          },
          "metadata": {},
          "execution_count": 10
        }
      ]
    },
    {
      "cell_type": "code",
      "source": [
        "df[\"TotalPayBenefits\"].max()"
      ],
      "metadata": {
        "colab": {
          "base_uri": "https://localhost:8080/"
        },
        "id": "5fF_TZnzly3c",
        "outputId": "39c15919-318d-4010-c32d-14c5ce603b30"
      },
      "execution_count": 11,
      "outputs": [
        {
          "output_type": "execute_result",
          "data": {
            "text/plain": [
              "567595.43"
            ]
          },
          "metadata": {},
          "execution_count": 11
        }
      ]
    },
    {
      "cell_type": "code",
      "source": [
        "df[\"TotalPayBenefits\"].std()"
      ],
      "metadata": {
        "colab": {
          "base_uri": "https://localhost:8080/"
        },
        "id": "YX3Bnk7zmRXB",
        "outputId": "c0cc8e4f-f5a8-467d-ac03-2852a0803b9d"
      },
      "execution_count": 12,
      "outputs": [
        {
          "output_type": "execute_result",
          "data": {
            "text/plain": [
              "62793.533483237705"
            ]
          },
          "metadata": {},
          "execution_count": 12
        }
      ]
    },
    {
      "cell_type": "markdown",
      "source": [
        "**Task 3**"
      ],
      "metadata": {
        "id": "VfSvJibdmV7n"
      }
    },
    {
      "cell_type": "code",
      "source": [
        "df = df.drop(['Status'],axis=1)\n",
        "df.isnull().sum()"
      ],
      "metadata": {
        "colab": {
          "base_uri": "https://localhost:8080/"
        },
        "id": "Z51qy220mXsw",
        "outputId": "cf4654f0-413e-49ad-9f19-444b548d78d8"
      },
      "execution_count": 13,
      "outputs": [
        {
          "output_type": "execute_result",
          "data": {
            "text/plain": [
              "Id                       0\n",
              "EmployeeName             0\n",
              "JobTitle                 0\n",
              "BasePay                609\n",
              "OvertimePay              4\n",
              "OtherPay                 4\n",
              "Benefits             36163\n",
              "TotalPay                 0\n",
              "TotalPayBenefits         0\n",
              "Year                     0\n",
              "Notes               148654\n",
              "Agency                   0\n",
              "dtype: int64"
            ]
          },
          "metadata": {},
          "execution_count": 13
        }
      ]
    },
    {
      "cell_type": "code",
      "source": [
        "df = df.drop(['Notes'],axis=1)\n",
        "df.isnull().sum()"
      ],
      "metadata": {
        "colab": {
          "base_uri": "https://localhost:8080/"
        },
        "id": "TRDh1Dwsooyw",
        "outputId": "fc8ce521-07b5-4a45-e949-77a8ba61cdb5"
      },
      "execution_count": 14,
      "outputs": [
        {
          "output_type": "execute_result",
          "data": {
            "text/plain": [
              "Id                      0\n",
              "EmployeeName            0\n",
              "JobTitle                0\n",
              "BasePay               609\n",
              "OvertimePay             4\n",
              "OtherPay                4\n",
              "Benefits            36163\n",
              "TotalPay                0\n",
              "TotalPayBenefits        0\n",
              "Year                    0\n",
              "Agency                  0\n",
              "dtype: int64"
            ]
          },
          "metadata": {},
          "execution_count": 14
        }
      ]
    },
    {
      "cell_type": "markdown",
      "source": [
        "Handling with 'Notes' and 'Status' --> with deleting them\n",
        "Because the entire coulumn is empty"
      ],
      "metadata": {
        "id": "5QeroXpooxHt"
      }
    },
    {
      "cell_type": "code",
      "source": [
        "df['BasePay'] = df['BasePay'].fillna(df['BasePay'].mean())\n",
        "df['Benefits'] = df['Benefits'].fillna(df['Benefits'].mean())\n",
        "df['OvertimePay'] = df['OvertimePay'].fillna(df['OvertimePay'].mean())\n",
        "df['OtherPay'] = df['OtherPay'].fillna(df['OtherPay'].mean())\n",
        "df.isnull().sum()"
      ],
      "metadata": {
        "colab": {
          "base_uri": "https://localhost:8080/"
        },
        "id": "8ykX74dto9dg",
        "outputId": "e61e9b8d-435b-4784-b378-f66abcb20f6f"
      },
      "execution_count": 15,
      "outputs": [
        {
          "output_type": "execute_result",
          "data": {
            "text/plain": [
              "Id                  0\n",
              "EmployeeName        0\n",
              "JobTitle            0\n",
              "BasePay             0\n",
              "OvertimePay         0\n",
              "OtherPay            0\n",
              "Benefits            0\n",
              "TotalPay            0\n",
              "TotalPayBenefits    0\n",
              "Year                0\n",
              "Agency              0\n",
              "dtype: int64"
            ]
          },
          "metadata": {},
          "execution_count": 15
        }
      ]
    },
    {
      "cell_type": "markdown",
      "source": [
        "Handling with 'BasePay', 'OtherPay', 'OvertimePay' and 'Benefits' --> with replacing them with mean value of the entire column to make dataset more accurate"
      ],
      "metadata": {
        "id": "0WvxdYrOppkc"
      }
    },
    {
      "cell_type": "markdown",
      "source": [
        "**Task 4**"
      ],
      "metadata": {
        "id": "EquAR2ul21O-"
      }
    },
    {
      "cell_type": "code",
      "source": [
        "sns.histplot(df['TotalPayBenefits'], bins=30)\n",
        "plt.title('Seaborn Histogram of Data')\n",
        "plt.xlabel('TotalPayBenefits')\n",
        "plt.ylabel('No. of Employees')\n",
        "plt.show()"
      ],
      "metadata": {
        "id": "rI-abMA72Gdy"
      },
      "execution_count": null,
      "outputs": []
    },
    {
      "cell_type": "code",
      "source": [
        "plt.pie(abs(df['TotalPayBenefits']), labels=df['JobTitle'])\n",
        "plt.title('Matplotlib Proportional Data')\n",
        "plt.show()"
      ],
      "metadata": {
        "id": "0pxP8PhQ2Shu"
      },
      "execution_count": null,
      "outputs": []
    },
    {
      "cell_type": "markdown",
      "source": [
        "**Task 5**"
      ],
      "metadata": {
        "id": "-7pQL2dI__BK"
      }
    },
    {
      "cell_type": "code",
      "source": [
        "groupedby1 = df.groupby('TotalPayBenefits')\n",
        "groupedby1.describe()"
      ],
      "metadata": {
        "id": "YfNPUEK6_Fbr"
      },
      "execution_count": null,
      "outputs": []
    },
    {
      "cell_type": "code",
      "source": [
        "groupedby2 = df.groupby(['TotalPayBenefits', 'Year'])\n",
        "groupedby2.describe()"
      ],
      "metadata": {
        "id": "HXQLlcayAG_g"
      },
      "execution_count": null,
      "outputs": []
    },
    {
      "cell_type": "markdown",
      "source": [
        "**Task 6**"
      ],
      "metadata": {
        "id": "iL7c9dpBAf2l"
      }
    },
    {
      "cell_type": "code",
      "source": [
        "plt.scatter(df['TotalPayBenefits'], df['BasePay'])\n",
        "plt.show()"
      ],
      "metadata": {
        "id": "4p328Q-oAfMN"
      },
      "execution_count": null,
      "outputs": []
    }
  ]
}